{
 "cells": [
  {
   "cell_type": "markdown",
   "metadata": {},
   "source": [
    "# LAB2: NUMPY, PANDAS VÀ MATPLOTLIB NÂNG CAOCAO"
   ]
  },
  {
   "cell_type": "markdown",
   "metadata": {},
   "source": [
    "## 1.Numpy"
   ]
  },
  {
   "cell_type": "code",
   "execution_count": 1,
   "metadata": {},
   "outputs": [
    {
     "data": {
      "text/plain": [
       "np.int64(3)"
      ]
     },
     "execution_count": 1,
     "metadata": {},
     "output_type": "execute_result"
    }
   ],
   "source": [
    "import numpy as np\n",
    "x = np.array([1,2,3,4,5,6,7,8])\n",
    "#lấy số 3\n",
    "x[2]"
   ]
  },
  {
   "cell_type": "code",
   "execution_count": 2,
   "metadata": {},
   "outputs": [
    {
     "data": {
      "text/plain": [
       "array([1, 2, 3])"
      ]
     },
     "execution_count": 2,
     "metadata": {},
     "output_type": "execute_result"
    }
   ],
   "source": [
    "# lấy 1 2 3 \n",
    "x[:3]"
   ]
  },
  {
   "cell_type": "code",
   "execution_count": 3,
   "metadata": {},
   "outputs": [
    {
     "data": {
      "text/plain": [
       "array([3, 4, 5, 6, 7, 8])"
      ]
     },
     "execution_count": 3,
     "metadata": {},
     "output_type": "execute_result"
    }
   ],
   "source": [
    "# lâys từ 3 đến 8\n",
    "x[2:8]"
   ]
  },
  {
   "cell_type": "code",
   "execution_count": 4,
   "metadata": {},
   "outputs": [
    {
     "data": {
      "text/plain": [
       "array([3, 4, 5, 6, 7, 8])"
      ]
     },
     "execution_count": 4,
     "metadata": {},
     "output_type": "execute_result"
    }
   ],
   "source": [
    "x[2:]"
   ]
  },
  {
   "cell_type": "code",
   "execution_count": 5,
   "metadata": {},
   "outputs": [
    {
     "data": {
      "text/plain": [
       "array([3, 4, 5, 6, 7])"
      ]
     },
     "execution_count": 5,
     "metadata": {},
     "output_type": "execute_result"
    }
   ],
   "source": [
    "# từ 3 đến 77\n",
    "x[2:7]"
   ]
  },
  {
   "cell_type": "code",
   "execution_count": 7,
   "metadata": {},
   "outputs": [
    {
     "data": {
      "text/plain": [
       "array([3, 4, 5, 6, 7])"
      ]
     },
     "execution_count": 7,
     "metadata": {},
     "output_type": "execute_result"
    }
   ],
   "source": [
    "x[2:-1]"
   ]
  },
  {
   "cell_type": "code",
   "execution_count": 8,
   "metadata": {},
   "outputs": [
    {
     "data": {
      "text/plain": [
       "array([7, 8])"
      ]
     },
     "execution_count": 8,
     "metadata": {},
     "output_type": "execute_result"
    }
   ],
   "source": [
    "#7,8\n",
    "x[-2:]"
   ]
  },
  {
   "cell_type": "code",
   "execution_count": 9,
   "metadata": {},
   "outputs": [
    {
     "data": {
      "text/plain": [
       "array([3, 5])"
      ]
     },
     "execution_count": 9,
     "metadata": {},
     "output_type": "execute_result"
    }
   ],
   "source": [
    "#phần tử với index 2 và 4\n",
    "x[[2, 4]]"
   ]
  },
  {
   "cell_type": "code",
   "execution_count": 11,
   "metadata": {},
   "outputs": [
    {
     "name": "stdout",
     "output_type": "stream",
     "text": [
      "[[1 2]\n",
      " [3 4]\n",
      " [5 6]]\n"
     ]
    }
   ],
   "source": [
    "data = [[1,2],[3,4],[5,6]]\n",
    "mang = np.array(data)\n",
    "print(mang)"
   ]
  },
  {
   "cell_type": "code",
   "execution_count": 12,
   "metadata": {},
   "outputs": [
    {
     "data": {
      "text/plain": [
       "np.int64(2)"
      ]
     },
     "execution_count": 12,
     "metadata": {},
     "output_type": "execute_result"
    }
   ],
   "source": [
    "mang[0,1]"
   ]
  },
  {
   "cell_type": "code",
   "execution_count": 13,
   "metadata": {},
   "outputs": [
    {
     "data": {
      "text/plain": [
       "np.int64(6)"
      ]
     },
     "execution_count": 13,
     "metadata": {},
     "output_type": "execute_result"
    }
   ],
   "source": [
    "mang[-1,1]"
   ]
  },
  {
   "cell_type": "code",
   "execution_count": 14,
   "metadata": {},
   "outputs": [
    {
     "data": {
      "text/plain": [
       "array([[3, 4],\n",
       "       [5, 6]])"
      ]
     },
     "execution_count": 14,
     "metadata": {},
     "output_type": "execute_result"
    }
   ],
   "source": [
    "#lay 3 4 5 6\n",
    "mang[1:,:]"
   ]
  },
  {
   "cell_type": "code",
   "execution_count": 15,
   "metadata": {},
   "outputs": [
    {
     "data": {
      "text/plain": [
       "array([[3, 4],\n",
       "       [5, 6]])"
      ]
     },
     "execution_count": 15,
     "metadata": {},
     "output_type": "execute_result"
    }
   ],
   "source": [
    "mang[1:]"
   ]
  },
  {
   "cell_type": "code",
   "execution_count": 16,
   "metadata": {},
   "outputs": [
    {
     "data": {
      "text/plain": [
       "array([[3, 4],\n",
       "       [5, 6]])"
      ]
     },
     "execution_count": 16,
     "metadata": {},
     "output_type": "execute_result"
    }
   ],
   "source": [
    "mang[[1,2],:]"
   ]
  },
  {
   "cell_type": "code",
   "execution_count": 17,
   "metadata": {},
   "outputs": [
    {
     "data": {
      "text/plain": [
       "array([[3, 4],\n",
       "       [5, 6]])"
      ]
     },
     "execution_count": 17,
     "metadata": {},
     "output_type": "execute_result"
    }
   ],
   "source": [
    "mang[1:3]"
   ]
  },
  {
   "cell_type": "code",
   "execution_count": 18,
   "metadata": {},
   "outputs": [
    {
     "data": {
      "text/plain": [
       "array([[3, 4],\n",
       "       [5, 6]])"
      ]
     },
     "execution_count": 18,
     "metadata": {},
     "output_type": "execute_result"
    }
   ],
   "source": [
    "mang[-2:]"
   ]
  },
  {
   "cell_type": "code",
   "execution_count": 19,
   "metadata": {},
   "outputs": [
    {
     "data": {
      "text/plain": [
       "array([1, 3, 5])"
      ]
     },
     "execution_count": 19,
     "metadata": {},
     "output_type": "execute_result"
    }
   ],
   "source": [
    "mang[:,0]"
   ]
  },
  {
   "cell_type": "code",
   "execution_count": 20,
   "metadata": {},
   "outputs": [
    {
     "data": {
      "text/plain": [
       "array([1, 5])"
      ]
     },
     "execution_count": 20,
     "metadata": {},
     "output_type": "execute_result"
    }
   ],
   "source": [
    "mang[[0,2],00]"
   ]
  },
  {
   "cell_type": "code",
   "execution_count": 21,
   "metadata": {},
   "outputs": [
    {
     "data": {
      "text/plain": [
       "array([1, 5])"
      ]
     },
     "execution_count": 21,
     "metadata": {},
     "output_type": "execute_result"
    }
   ],
   "source": [
    "#lay 1 vaf 5 the format start:end:step\n",
    "mang[::2,0]"
   ]
  },
  {
   "cell_type": "code",
   "execution_count": 24,
   "metadata": {},
   "outputs": [],
   "source": [
    "x = [\n",
    "    [1,2,3,4],\n",
    "    [5,6,7,8],\n",
    "    [9,10,11,12],\n",
    "    [13,14,15,16]\n",
    "]\n",
    "X=np.array(x)"
   ]
  },
  {
   "cell_type": "code",
   "execution_count": 26,
   "metadata": {},
   "outputs": [
    {
     "data": {
      "text/plain": [
       "array([ 2,  6, 10, 14])"
      ]
     },
     "execution_count": 26,
     "metadata": {},
     "output_type": "execute_result"
    }
   ],
   "source": [
    "#lay 2 ,6,10,14\n",
    "X[:,1]"
   ]
  },
  {
   "cell_type": "code",
   "execution_count": 27,
   "metadata": {},
   "outputs": [
    {
     "data": {
      "text/plain": [
       "array([ 7, 11])"
      ]
     },
     "execution_count": 27,
     "metadata": {},
     "output_type": "execute_result"
    }
   ],
   "source": [
    "#lay 7 va 11\n",
    "X[1:3,2]"
   ]
  },
  {
   "cell_type": "code",
   "execution_count": 28,
   "metadata": {},
   "outputs": [
    {
     "data": {
      "text/plain": [
       "array([ 4,  7, 10])"
      ]
     },
     "execution_count": 28,
     "metadata": {},
     "output_type": "execute_result"
    }
   ],
   "source": [
    "#lay 4 7 10\n",
    "X[[0, 1, 2], [3, 2, 1]]"
   ]
  },
  {
   "cell_type": "code",
   "execution_count": 29,
   "metadata": {},
   "outputs": [
    {
     "data": {
      "text/plain": [
       "array([16, 15, 14, 13])"
      ]
     },
     "execution_count": 29,
     "metadata": {},
     "output_type": "execute_result"
    }
   ],
   "source": [
    "#lay 16 15 14 13\n",
    "X[3, ::-1]"
   ]
  },
  {
   "cell_type": "code",
   "execution_count": 31,
   "metadata": {},
   "outputs": [
    {
     "data": {
      "text/plain": [
       "array([16, 15, 14, 13])"
      ]
     },
     "execution_count": 31,
     "metadata": {},
     "output_type": "execute_result"
    }
   ],
   "source": [
    "X[-1,-1::-1]"
   ]
  },
  {
   "cell_type": "code",
   "execution_count": null,
   "metadata": {},
   "outputs": [],
   "source": [
    "# Bài tập tết về nhà\n",
    "# cho ma trận = [\n",
    "#    [99,99,99],\n",
    " #   [99,99,99],\n",
    " #   [99,99,9999]\n",
    " # ]\n",
    "#giả sử 0 =O VÀ 1 là X\n",
    "# nhận đầu vào từ phía X VÀ O luân phiên \n",
    "# cho một cặp chỉ số nêú phía X nhập ((0,0)) thì ma trận trở thành "
   ]
  },
  {
   "cell_type": "code",
   "execution_count": null,
   "metadata": {},
   "outputs": [],
   "source": [
    "# bài tập trên lớp từ 2h30 tới 2h35\n",
    "# cho ma trận = [\n",
    "#    [1,2,3],\n",
    " #   [4,5,6],\n",
    " #   [7,8,9]\n",
    " # ]\n",
    "\n",
    "# lay 4 5 6\n",
    "# lay 2 5 \n",
    "# lay 3, 4 \n",
    "#lay 9 6 3"
   ]
  },
  {
   "cell_type": "code",
   "execution_count": 32,
   "metadata": {},
   "outputs": [
    {
     "data": {
      "text/plain": [
       "array([4, 5, 6])"
      ]
     },
     "execution_count": 32,
     "metadata": {},
     "output_type": "execute_result"
    }
   ],
   "source": [
    "chomatran = [\n",
    "   [1,2,3],\n",
    "   [4,5,6],\n",
    "   [7,8,9]\n",
    "]\n",
    "p = np.array(chomatran)\n",
    "#lay 4 5 6\n",
    "p[1, :]"
   ]
  },
  {
   "cell_type": "code",
   "execution_count": 37,
   "metadata": {},
   "outputs": [
    {
     "data": {
      "text/plain": [
       "array([2, 5])"
      ]
     },
     "execution_count": 37,
     "metadata": {},
     "output_type": "execute_result"
    }
   ],
   "source": [
    "# lay 2 5\n",
    "p[0:2,1]"
   ]
  },
  {
   "cell_type": "code",
   "execution_count": 38,
   "metadata": {},
   "outputs": [
    {
     "data": {
      "text/plain": [
       "array([3, 4])"
      ]
     },
     "execution_count": 38,
     "metadata": {},
     "output_type": "execute_result"
    }
   ],
   "source": [
    "# lay 3, 4 \n",
    "p[[0, 1], [2, 0]]"
   ]
  },
  {
   "cell_type": "code",
   "execution_count": 39,
   "metadata": {},
   "outputs": [
    {
     "data": {
      "text/plain": [
       "array([9, 6, 3])"
      ]
     },
     "execution_count": 39,
     "metadata": {},
     "output_type": "execute_result"
    }
   ],
   "source": [
    "#lay 9 6 3\n",
    "p[[2, 1, 0], 2]"
   ]
  },
  {
   "cell_type": "code",
   "execution_count": 40,
   "metadata": {},
   "outputs": [
    {
     "name": "stdout",
     "output_type": "stream",
     "text": [
      "[2, 4, 6, 8, 10]\n",
      "[1, 3, 5, 7, 9]\n"
     ]
    }
   ],
   "source": [
    "x = [1, 2, 3, 4, 5, 6, 7, 8, 9, 10]\n",
    "\n",
    "# lay ra cac so chan\n",
    "mang_chan = [num for num in x if num % 2 == 0]\n",
    "print(mang_chan)\n",
    "\n",
    "# lay ra cac so le\n",
    "mang_le = [num for num in x if num % 2 != 0 and num != 0]\n",
    "print(mang_le)"
   ]
  },
  {
   "cell_type": "code",
   "execution_count": 41,
   "metadata": {},
   "outputs": [
    {
     "data": {
      "text/plain": [
       "array([[1., 1., 1.],\n",
       "       [1., 1., 1.],\n",
       "       [1., 1., 1.]])"
      ]
     },
     "execution_count": 41,
     "metadata": {},
     "output_type": "execute_result"
    }
   ],
   "source": [
    "np.ones((3,3))"
   ]
  },
  {
   "cell_type": "code",
   "execution_count": 42,
   "metadata": {},
   "outputs": [
    {
     "data": {
      "text/plain": [
       "array([0, 1, 2])"
      ]
     },
     "execution_count": 42,
     "metadata": {},
     "output_type": "execute_result"
    }
   ],
   "source": [
    "np.arange(3)"
   ]
  },
  {
   "cell_type": "code",
   "execution_count": 43,
   "metadata": {},
   "outputs": [
    {
     "data": {
      "text/plain": [
       "array([[1., 2., 3.],\n",
       "       [1., 2., 3.],\n",
       "       [1., 2., 3.]])"
      ]
     },
     "execution_count": 43,
     "metadata": {},
     "output_type": "execute_result"
    }
   ],
   "source": [
    "np.ones((3,3)) + np.arange(3)"
   ]
  },
  {
   "cell_type": "code",
   "execution_count": 44,
   "metadata": {},
   "outputs": [],
   "source": [
    "x = np.arange(3)"
   ]
  },
  {
   "cell_type": "code",
   "execution_count": null,
   "metadata": {},
   "outputs": [],
   "source": [
    "# tao mot mang numpy co kich thuoc 150 x 5 hay tuong tuong mang xay ra"
   ]
  },
  {
   "cell_type": "markdown",
   "metadata": {},
   "source": [
    "# 2. Pandas"
   ]
  },
  {
   "cell_type": "code",
   "execution_count": 9,
   "metadata": {},
   "outputs": [
    {
     "name": "stdout",
     "output_type": "stream",
     "text": [
      "    ID         Name   Age    Salary\n",
      "0  101    Quynh Nhu  26.0    5000.0\n",
      "1  102    Hoang Hai  18.0   35000.0\n",
      "2  103         None  20.0   65000.0\n",
      "3  104  Phuong Tuan   NaN  100000.0\n",
      "4  105     Thien An  19.0       NaN\n",
      "    ID         Name    Age    Salary\n",
      "0  101    Quynh Nhu  26.00    5000.0\n",
      "1  102    Hoang Hai  18.00   35000.0\n",
      "3  104  Phuong Tuan  20.75  100000.0\n"
     ]
    },
    {
     "name": "stderr",
     "output_type": "stream",
     "text": [
      "C:\\Users\\M-SI\\AppData\\Local\\Temp\\ipykernel_10492\\4041983250.py:14: FutureWarning: A value is trying to be set on a copy of a DataFrame or Series through chained assignment using an inplace method.\n",
      "The behavior will change in pandas 3.0. This inplace method will never work because the intermediate object on which we are setting values always behaves as a copy.\n",
      "\n",
      "For example, when doing 'df[col].method(value, inplace=True)', try using 'df.method({col: value}, inplace=True)' or df[col] = df[col].method(value) instead, to perform the operation inplace on the original object.\n",
      "\n",
      "\n",
      "  df[\"Age\"].fillna(df[\"Age\"].mean(), inplace=True)\n",
      "C:\\Users\\M-SI\\AppData\\Local\\Temp\\ipykernel_10492\\4041983250.py:18: FutureWarning: A value is trying to be set on a copy of a DataFrame or Series through chained assignment using an inplace method.\n",
      "The behavior will change in pandas 3.0. This inplace method will never work because the intermediate object on which we are setting values always behaves as a copy.\n",
      "\n",
      "For example, when doing 'df[col].method(value, inplace=True)', try using 'df.method({col: value}, inplace=True)' or df[col] = df[col].method(value) instead, to perform the operation inplace on the original object.\n",
      "\n",
      "\n",
      "  df[\"Name\"].fillna(\"Unknown\", inplace=True)\n",
      "C:\\Users\\M-SI\\AppData\\Local\\Temp\\ipykernel_10492\\4041983250.py:20: FutureWarning: A value is trying to be set on a copy of a DataFrame or Series through chained assignment using an inplace method.\n",
      "The behavior will change in pandas 3.0. This inplace method will never work because the intermediate object on which we are setting values always behaves as a copy.\n",
      "\n",
      "For example, when doing 'df[col].method(value, inplace=True)', try using 'df.method({col: value}, inplace=True)' or df[col] = df[col].method(value) instead, to perform the operation inplace on the original object.\n",
      "\n",
      "\n",
      "  df[\"Salary\"].interpolate(methode = \"linear\",inplace=True)\n"
     ]
    }
   ],
   "source": [
    "import pandas as pd\n",
    "import numpy as np\n",
    "\n",
    "data = {\n",
    "    \"ID\" : [ 101,102,103,104,105],\n",
    "    \"Name\": [\"Quynh Nhu\",\"Hoang Hai\",None,\"Phuong Tuan\", \"Thien An\"],\n",
    "    \"Age\": [26,18,20,None,19],\n",
    "    \"Salary\": [5000,35000,65000,100000,None]\n",
    "    \n",
    "}\n",
    "df = pd.DataFrame(data)\n",
    "print(df)\n",
    "# điền giá trị thiếu trong cột Age = giá trị trung bình\n",
    "df[\"Age\"].fillna(df[\"Age\"].mean(), inplace=True)\n",
    "# Loại bỏ các dòng chứa dữ liệu thiếu\n",
    "df.dropna(inplace=True)\n",
    "# điền giá trị thiếu trong name = \"Unknown\" ArithneticError\n",
    "df[\"Name\"].fillna(\"Unknown\", inplace=True)\n",
    "# Điền giá trị thiếu trong Salary = phương pháp Interpolation \n",
    "df[\"Salary\"].interpolate(methode = \"linear\",inplace=True) \n",
    "print(df)"
   ]
  },
  {
   "cell_type": "code",
   "execution_count": 1,
   "metadata": {},
   "outputs": [
    {
     "ename": "NameError",
     "evalue": "name 'df' is not defined",
     "output_type": "error",
     "traceback": [
      "\u001b[1;31m---------------------------------------------------------------------------\u001b[0m",
      "\u001b[1;31mNameError\u001b[0m                                 Traceback (most recent call last)",
      "Cell \u001b[1;32mIn[1], line 2\u001b[0m\n\u001b[0;32m      1\u001b[0m \u001b[38;5;66;03m# điền giá trị thiếu trong cột Age = giá trị trung bình\u001b[39;00m\n\u001b[1;32m----> 2\u001b[0m \u001b[43mdf\u001b[49m[\u001b[38;5;124m\"\u001b[39m\u001b[38;5;124mAge\u001b[39m\u001b[38;5;124m\"\u001b[39m]\u001b[38;5;241m.\u001b[39mfillna(df[\u001b[38;5;124m\"\u001b[39m\u001b[38;5;124mAge\u001b[39m\u001b[38;5;124m\"\u001b[39m]\u001b[38;5;241m.\u001b[39mmean(), inplace\u001b[38;5;241m=\u001b[39m\u001b[38;5;28;01mTrue\u001b[39;00m)\n\u001b[0;32m      3\u001b[0m \u001b[38;5;66;03m# Loại bỏ các dòng chứa dữ liệu thiếu\u001b[39;00m\n\u001b[0;32m      4\u001b[0m df\u001b[38;5;241m.\u001b[39mdropna(inplace\u001b[38;5;241m=\u001b[39m\u001b[38;5;28;01mTrue\u001b[39;00m)\n",
      "\u001b[1;31mNameError\u001b[0m: name 'df' is not defined"
     ]
    }
   ],
   "source": [
    "# điền giá trị thiếu trong cột Age = giá trị trung bình\n",
    "df[\"Age\"].fillna(df[\"Age\"].mean(), inplace=True)\n",
    "# Loại bỏ các dòng chứa dữ liệu thiếu\n",
    "df.dropna(inplace=True)\n",
    "# điền giá trị thiếu trong name = \"Unknown\" ArithneticError\n",
    "df[\"Name\"].fillna(\"Unknown\", inplace=True)\n",
    "# Điền giá trị thiếu trong Salary = phương pháp Interpolation \n",
    "df[\"Salary\"].interpolate(methode = \"linear\",inplace=True) \n",
    "print(df)"
   ]
  },
  {
   "cell_type": "code",
   "execution_count": null,
   "metadata": {},
   "outputs": [
    {
     "name": "stdout",
     "output_type": "stream",
     "text": [
      "Inner Merge:\n",
      "    Id  Score_A  Score_B\n",
      "0   3       85       62\n",
      "Left Merge:\n",
      "    Id  Score_A  Score_B\n",
      "0   1       70      NaN\n",
      "1   2       90      NaN\n",
      "2   3       85     62.0\n",
      "Outer Merge:\n",
      "    Id  Score_A  Score_B\n",
      "0   1     70.0      NaN\n",
      "1   2     90.0      NaN\n",
      "2   3     85.0     62.0\n",
      "3   4      NaN     91.0\n",
      "4   5      NaN     75.0\n",
      "Vertical Concatenation:\n",
      "    Id  Score_A  Score_B\n",
      "0   1     70.0      NaN\n",
      "1   2     90.0      NaN\n",
      "2   3     85.0      NaN\n",
      "3   3      NaN     62.0\n",
      "4   4      NaN     91.0\n",
      "5   5      NaN     75.0\n",
      "Merged and Filled Data:\n",
      "    Id  Score_A  Score_B\n",
      "0   1     70.0      0.0\n",
      "1   2     90.0      0.0\n",
      "2   3     85.0     62.0\n",
      "3   4      0.0     91.0\n",
      "4   5      0.0     75.0\n"
     ]
    }
   ],
   "source": [
    "# cho data \n",
    "df1 = pd.DataFrame({\n",
    "    \"Id\": [1,2,3],\n",
    "\"Score_A\": [70,90,85]\n",
    "})\n",
    "df2= pd.DataFrame({\n",
    "    \"Id\": [3,4,5],\n",
    "    \"Score_B\": [62,91,75]\n",
    "})\n",
    "# Thực hiện Merge trên cột Id (Inner join, left join, outer join)\n",
    "inner_merge = pd.merge(df1, df2, on=\"Id\", how=\"inner\")  # Inner Join\n",
    "left_merge = pd.merge(df1, df2, on=\"Id\", how=\"left\")    # Left Join\n",
    "outer_merge = pd.merge(df1, df2, on=\"Id\", how=\"outer\")  # Outer Join\n",
    "# Nói DataFrame theo chiều dọc\n",
    "vertical_concat = pd.concat([df1, df2], axis=00)\n",
    "# Gộp df1 và df2 để điền giá trị thiếu\n",
    "merged_fillna = pd.merge(df1, df2, on=\"Id\", how=\"outer\").fillna(0)\n",
    "df1.set_index(\"Id\").combine_first(df2.set_index(\"Id\")).reset_index()\n",
    "\n",
    "print(\"Inner Merge:\\n\", inner_merge)\n",
    "print(\"Left Merge:\\n\", left_merge)\n",
    "print(\"Outer Merge:\\n\", outer_merge)\n",
    "print(\"Vertical Concatenation:\\n\", vertical_concat)\n",
    "print(\"Merged and Filled Data:\\n\", merged_fillna)"
   ]
  },
  {
   "cell_type": "code",
   "execution_count": null,
   "metadata": {},
   "outputs": [],
   "source": [
    "# cho dưx liệu sau\n",
    "data = pd.DataFrame({\n",
    "    \"ID\" = range(1,100000),\n",
    "    \"Value\": np.random.randint(1,100,100000)\n",
    "})\n",
    "# Dùng .astype để tối ưu hóa bộ nhớ\n",
    "data[\"ID\"] = data[\"ID\"].astype(\"uint32\")\n",
    "data[\"Value\"] = data[\"Value\"].astype(\"uint8\")\n",
    "# Tìm 5 giá trị phổ biến trong cột value\n",
    "data[\"Value\"].value_counts().head(55)\n",
    "# sử dụng query để lọc dữ liệu nhanh hơn df[df[\"Value\"]> 90]\n",
    "data.query(\"Value > 90\")"
   ]
  },
  {
   "cell_type": "markdown",
   "metadata": {},
   "source": [
    "# 3.Matplotlib"
   ]
  },
  {
   "cell_type": "code",
   "execution_count": 10,
   "metadata": {},
   "outputs": [
    {
     "data": {
      "image/png": "[encoded data removed]",
      "text/plain": [
       "<Figure size 1000x600 with 1 Axes>"
      ]
     },
     "metadata": {},
     "output_type": "display_data"
    }
   ],
   "source": [
    "# Biểu đồ nhiều đường\n",
    "\n",
    "# Cho dữ liệu sau\n",
    "import matplotlib.pyplot as plt\n",
    "import numpy as np\n",
    "t = np.linspace(0,10,100)\n",
    "y1 = np.sin(t)\n",
    "y2 = np.cos(t)\n",
    "y3 = np.sin(t) * np.cos(t)\n",
    "\n",
    "# tạo biểu đồ các đường theo thời gian\n",
    "plt.figure(figsize=(10, 6))\n",
    "plt.plot(t, y1, label=\"sin(t)\", linewidth=2)\n",
    "plt.plot(t, y2, label=\"cos(t)\", linewidth=2)\n",
    "plt.plot(t, y3, label=\"sin(t) * cos(t)\", linewidth=2)\n",
    "\n",
    "plt.title(\"Biểu đồ nhiều đường theo thời gian\")\n",
    "plt.xlabel(\"Thời gian (t)\")\n",
    "plt.ylabel(\"Giá trị hàm số\")\n",
    "plt.legend()\n",
    "plt.grid()\n",
    "\n",
    "# Hiển thị biểu đồ\n",
    "plt.show()"
   ]
  },
  {
   "cell_type": "code",
   "execution_count": null,
   "metadata": {},
   "outputs": [],
   "source": [
    "# Biểu đồ thanh nhóm\n",
    "\n",
    "#cho dữ liệu sau \n",
    "labels = [\"Q1\",\"Q2\",\"Q3\",\"Q4\"]\n",
    "A = [500,700,800,600]\n",
    "B= [450,350,650,750]\n",
    "C= [500,250,850,600]\n",
    "# vẽ biểu đồ thanh nhóm thể hiện doanh thu A,B,C trong 4 quýquý"
   ]
  },
  {
   "cell_type": "code",
   "execution_count": null,
   "metadata": {},
   "outputs": [],
   "source": [
    "# Biểu đồ tròn\n",
    "Cty = [\"A\",\"B\",\"C\",\"D\"]\n",
    "thiphan= [30,25,25,20]\n",
    "color = [\"#ff9999\",\"#66b3ff\",\"#99ff99\",\"#ffcc99\"]\n",
    "\n",
    "# Tạo biểu đồ tròn thể hiện tỉ lệ thị phần của 4 công ty "
   ]
  },
  {
   "cell_type": "code",
   "execution_count": null,
   "metadata": {},
   "outputs": [],
   "source": [
    "# Biểu đồ phân tán \n",
    "#cho dữ liệu sau\n",
    "x = np.random.rand(100)\n",
    "y = np.random.rand(100)\n",
    "sizes = np.random.rand(100)*300\n",
    "colors = np.random.rand(100)\n",
    "\n",
    "# tạo biểu đồ phân tán của hai biến ngẫu nhiên "
   ]
  },
  {
   "cell_type": "code",
   "execution_count": null,
   "metadata": {},
   "outputs": [],
   "source": [
    "# Biểu đồ nhiệt \n",
    "data= np.random.rand(10,10)\n",
    "# vẽ một heatmap thể hiện sự phân bố của dữ liệu trên ma trận\n"
   ]
  }
 ],
 "metadata": {
  "kernelspec": {
   "display_name": "Python 3",
   "language": "python",
   "name": "python3"
  },
  "language_info": {
   "codemirror_mode": {
    "name": "ipython",
    "version": 3
   },
   "file_extension": ".py",
   "mimetype": "text/x-python",
   "name": "python",
   "nbconvert_exporter": "python",
   "pygments_lexer": "ipython3",
   "version": "3.11.1"
  }
 },
 "nbformat": 4,
 "nbformat_minor": 2
}
