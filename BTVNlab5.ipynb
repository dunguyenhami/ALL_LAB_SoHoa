{
 "cells": [
  {
   "cell_type": "markdown",
   "metadata": {},
   "source": [
    "BTVN\n",
    "1. Hoàn thành bài tập trên sao cho đoạn có thể chạy mượt mà và chính xác\n",
    "\n",
    "2. Cho bộ dữ liệu sau:howlongwelive\n",
    "2.1 Tôi muốn biết có bao nhiêu cột và bao nhiêu hàng\n",
    "2.2 Tôi muốn biết ds tên của các cột\n",
    "2.3 Thử dùng df.[\"status\"]\n",
    "2.4 Cho tôi biết có bao nhiêu nước đang phát triển và bao nhiêu nước phát triển\n",
    "2.5 Tính min, max, mean, medium của alcohol\n",
    "2.6 \n",
    "- Bài 1: Đếm những hàng có rượu nhiều hơn mức trung binh và liệt kê những quốc qua độc đáo này\n",
    "- Bài 2: Lấy ds quốc gia có trình độ học vấn cao hơn mức trung bình và GDp cao hơn mức trung bình 0"
   ]
  },
  {
   "cell_type": "code",
   "execution_count": 1,
   "metadata": {},
   "outputs": [
    {
     "name": "stdout",
     "output_type": "stream",
     "text": [
      "<class 'pandas.core.frame.DataFrame'>\n",
      "RangeIndex: 2938 entries, 0 to 2937\n",
      "Data columns (total 22 columns):\n",
      " #   Column                           Non-Null Count  Dtype  \n",
      "---  ------                           --------------  -----  \n",
      " 0   Country                          2938 non-null   object \n",
      " 1   Year                             2938 non-null   int64  \n",
      " 2   Status                           2938 non-null   object \n",
      " 3   Life expectancy                  2928 non-null   float64\n",
      " 4   Adult Mortality                  2928 non-null   float64\n",
      " 5   infant deaths                    2938 non-null   int64  \n",
      " 6   Alcohol                          2744 non-null   float64\n",
      " 7   percentage expenditure           2938 non-null   float64\n",
      " 8   Hepatitis B                      2385 non-null   float64\n",
      " 9   Measles                          2938 non-null   int64  \n",
      " 10   BMI                             2904 non-null   float64\n",
      " 11  under-five deaths                2938 non-null   int64  \n",
      " 12  Polio                            2919 non-null   float64\n",
      " 13  Total expenditure                2712 non-null   float64\n",
      " 14  Diphtheria                       2919 non-null   float64\n",
      " 15   HIV/AIDS                        2938 non-null   float64\n",
      " 16  GDP                              2490 non-null   float64\n",
      " 17  Population                       2286 non-null   float64\n",
      " 18   thinness  1-19 years            2904 non-null   float64\n",
      " 19   thinness 5-9 years              2904 non-null   float64\n",
      " 20  Income composition of resources  2771 non-null   float64\n",
      " 21  Schooling                        2775 non-null   float64\n",
      "dtypes: float64(16), int64(4), object(2)\n",
      "memory usage: 505.1+ KB\n"
     ]
    },
    {
     "data": {
      "text/html": [
       "<div>\n",
       "<style scoped>\n",
       "    .dataframe tbody tr th:only-of-type {\n",
       "        vertical-align: middle;\n",
       "    }\n",
       "\n",
       "    .dataframe tbody tr th {\n",
       "        vertical-align: top;\n",
       "    }\n",
       "\n",
       "    .dataframe thead th {\n",
       "        text-align: right;\n",
       "    }\n",
       "</style>\n",
       "<table border=\"1\" class=\"dataframe\">\n",
       "  <thead>\n",
       "    <tr style=\"text-align: right;\">\n",
       "      <th></th>\n",
       "      <th>Country</th>\n",
       "      <th>Year</th>\n",
       "      <th>Status</th>\n",
       "      <th>Life expectancy</th>\n",
       "      <th>Adult Mortality</th>\n",
       "      <th>infant deaths</th>\n",
       "      <th>Alcohol</th>\n",
       "      <th>percentage expenditure</th>\n",
       "      <th>Hepatitis B</th>\n",
       "      <th>Measles</th>\n",
       "      <th>...</th>\n",
       "      <th>Polio</th>\n",
       "      <th>Total expenditure</th>\n",
       "      <th>Diphtheria</th>\n",
       "      <th>HIV/AIDS</th>\n",
       "      <th>GDP</th>\n",
       "      <th>Population</th>\n",
       "      <th>thinness  1-19 years</th>\n",
       "      <th>thinness 5-9 years</th>\n",
       "      <th>Income composition of resources</th>\n",
       "      <th>Schooling</th>\n",
       "    </tr>\n",
       "  </thead>\n",
       "  <tbody>\n",
       "    <tr>\n",
       "      <th>0</th>\n",
       "      <td>Afghanistan</td>\n",
       "      <td>2015</td>\n",
       "      <td>Developing</td>\n",
       "      <td>65.0</td>\n",
       "      <td>263.0</td>\n",
       "      <td>62</td>\n",
       "      <td>0.01</td>\n",
       "      <td>71.279624</td>\n",
       "      <td>65.0</td>\n",
       "      <td>1154</td>\n",
       "      <td>...</td>\n",
       "      <td>6.0</td>\n",
       "      <td>8.16</td>\n",
       "      <td>65.0</td>\n",
       "      <td>0.1</td>\n",
       "      <td>584.259210</td>\n",
       "      <td>33736494.0</td>\n",
       "      <td>17.2</td>\n",
       "      <td>17.3</td>\n",
       "      <td>0.479</td>\n",
       "      <td>10.1</td>\n",
       "    </tr>\n",
       "    <tr>\n",
       "      <th>1</th>\n",
       "      <td>Afghanistan</td>\n",
       "      <td>2014</td>\n",
       "      <td>Developing</td>\n",
       "      <td>59.9</td>\n",
       "      <td>271.0</td>\n",
       "      <td>64</td>\n",
       "      <td>0.01</td>\n",
       "      <td>73.523582</td>\n",
       "      <td>62.0</td>\n",
       "      <td>492</td>\n",
       "      <td>...</td>\n",
       "      <td>58.0</td>\n",
       "      <td>8.18</td>\n",
       "      <td>62.0</td>\n",
       "      <td>0.1</td>\n",
       "      <td>612.696514</td>\n",
       "      <td>327582.0</td>\n",
       "      <td>17.5</td>\n",
       "      <td>17.5</td>\n",
       "      <td>0.476</td>\n",
       "      <td>10.0</td>\n",
       "    </tr>\n",
       "    <tr>\n",
       "      <th>2</th>\n",
       "      <td>Afghanistan</td>\n",
       "      <td>2013</td>\n",
       "      <td>Developing</td>\n",
       "      <td>59.9</td>\n",
       "      <td>268.0</td>\n",
       "      <td>66</td>\n",
       "      <td>0.01</td>\n",
       "      <td>73.219243</td>\n",
       "      <td>64.0</td>\n",
       "      <td>430</td>\n",
       "      <td>...</td>\n",
       "      <td>62.0</td>\n",
       "      <td>8.13</td>\n",
       "      <td>64.0</td>\n",
       "      <td>0.1</td>\n",
       "      <td>631.744976</td>\n",
       "      <td>31731688.0</td>\n",
       "      <td>17.7</td>\n",
       "      <td>17.7</td>\n",
       "      <td>0.470</td>\n",
       "      <td>9.9</td>\n",
       "    </tr>\n",
       "    <tr>\n",
       "      <th>3</th>\n",
       "      <td>Afghanistan</td>\n",
       "      <td>2012</td>\n",
       "      <td>Developing</td>\n",
       "      <td>59.5</td>\n",
       "      <td>272.0</td>\n",
       "      <td>69</td>\n",
       "      <td>0.01</td>\n",
       "      <td>78.184215</td>\n",
       "      <td>67.0</td>\n",
       "      <td>2787</td>\n",
       "      <td>...</td>\n",
       "      <td>67.0</td>\n",
       "      <td>8.52</td>\n",
       "      <td>67.0</td>\n",
       "      <td>0.1</td>\n",
       "      <td>669.959000</td>\n",
       "      <td>3696958.0</td>\n",
       "      <td>17.9</td>\n",
       "      <td>18.0</td>\n",
       "      <td>0.463</td>\n",
       "      <td>9.8</td>\n",
       "    </tr>\n",
       "    <tr>\n",
       "      <th>4</th>\n",
       "      <td>Afghanistan</td>\n",
       "      <td>2011</td>\n",
       "      <td>Developing</td>\n",
       "      <td>59.2</td>\n",
       "      <td>275.0</td>\n",
       "      <td>71</td>\n",
       "      <td>0.01</td>\n",
       "      <td>7.097109</td>\n",
       "      <td>68.0</td>\n",
       "      <td>3013</td>\n",
       "      <td>...</td>\n",
       "      <td>68.0</td>\n",
       "      <td>7.87</td>\n",
       "      <td>68.0</td>\n",
       "      <td>0.1</td>\n",
       "      <td>63.537231</td>\n",
       "      <td>2978599.0</td>\n",
       "      <td>18.2</td>\n",
       "      <td>18.2</td>\n",
       "      <td>0.454</td>\n",
       "      <td>9.5</td>\n",
       "    </tr>\n",
       "  </tbody>\n",
       "</table>\n",
       "<p>5 rows × 22 columns</p>\n",
       "</div>"
      ],
      "text/plain": [
       "       Country  Year      Status  Life expectancy   Adult Mortality  \\\n",
       "0  Afghanistan  2015  Developing              65.0            263.0   \n",
       "1  Afghanistan  2014  Developing              59.9            271.0   \n",
       "2  Afghanistan  2013  Developing              59.9            268.0   \n",
       "3  Afghanistan  2012  Developing              59.5            272.0   \n",
       "4  Afghanistan  2011  Developing              59.2            275.0   \n",
       "\n",
       "   infant deaths  Alcohol  percentage expenditure  Hepatitis B  Measles   ...  \\\n",
       "0             62     0.01               71.279624         65.0      1154  ...   \n",
       "1             64     0.01               73.523582         62.0       492  ...   \n",
       "2             66     0.01               73.219243         64.0       430  ...   \n",
       "3             69     0.01               78.184215         67.0      2787  ...   \n",
       "4             71     0.01                7.097109         68.0      3013  ...   \n",
       "\n",
       "   Polio  Total expenditure  Diphtheria    HIV/AIDS         GDP  Population  \\\n",
       "0    6.0               8.16         65.0        0.1  584.259210  33736494.0   \n",
       "1   58.0               8.18         62.0        0.1  612.696514    327582.0   \n",
       "2   62.0               8.13         64.0        0.1  631.744976  31731688.0   \n",
       "3   67.0               8.52         67.0        0.1  669.959000   3696958.0   \n",
       "4   68.0               7.87         68.0        0.1   63.537231   2978599.0   \n",
       "\n",
       "    thinness  1-19 years   thinness 5-9 years  \\\n",
       "0                   17.2                 17.3   \n",
       "1                   17.5                 17.5   \n",
       "2                   17.7                 17.7   \n",
       "3                   17.9                 18.0   \n",
       "4                   18.2                 18.2   \n",
       "\n",
       "   Income composition of resources  Schooling  \n",
       "0                            0.479       10.1  \n",
       "1                            0.476       10.0  \n",
       "2                            0.470        9.9  \n",
       "3                            0.463        9.8  \n",
       "4                            0.454        9.5  \n",
       "\n",
       "[5 rows x 22 columns]"
      ]
     },
     "execution_count": 1,
     "metadata": {},
     "output_type": "execute_result"
    }
   ],
   "source": [
    "import pandas as pd\n",
    "\n",
    "# Đọc file CSV\n",
    "file_path = \"howlongwelive.csv\"\n",
    "df = pd.read_csv(file_path)  # Đúng biến df thay vì data\n",
    "\n",
    "# Kiểm tra thông tin cơ bản của dữ liệu\n",
    "df.info()\n",
    "df.head()\n"
   ]
  },
  {
   "cell_type": "code",
   "execution_count": 2,
   "metadata": {},
   "outputs": [
    {
     "name": "stdout",
     "output_type": "stream",
     "text": [
      "Số hàng: 2938\n",
      "Số cột: 22\n"
     ]
    }
   ],
   "source": [
    "# Kiểm tra số hàng và số cột\n",
    "num_rows, num_cols = df.shape\n",
    "print(f\"Số hàng: {num_rows}\")\n",
    "print(f\"Số cột: {num_cols}\")\n"
   ]
  },
  {
   "cell_type": "code",
   "execution_count": 3,
   "metadata": {},
   "outputs": [
    {
     "name": "stdout",
     "output_type": "stream",
     "text": [
      "Danh sách tên cột: ['Country', 'Year', 'Status', 'Life expectancy ', 'Adult Mortality', 'infant deaths', 'Alcohol', 'percentage expenditure', 'Hepatitis B', 'Measles ', ' BMI ', 'under-five deaths ', 'Polio', 'Total expenditure', 'Diphtheria ', ' HIV/AIDS', 'GDP', 'Population', ' thinness  1-19 years', ' thinness 5-9 years', 'Income composition of resources', 'Schooling']\n"
     ]
    }
   ],
   "source": [
    "# 2.2: Lấy danh sách tên các cột\n",
    "column_names = df.columns.tolist()\n",
    "print(\"Danh sách tên cột:\", column_names)"
   ]
  },
  {
   "cell_type": "code",
   "execution_count": 4,
   "metadata": {},
   "outputs": [
    {
     "name": "stdout",
     "output_type": "stream",
     "text": [
      "0    Developing\n",
      "1    Developing\n",
      "2    Developing\n",
      "3    Developing\n",
      "4    Developing\n",
      "Name: Status, dtype: object\n"
     ]
    }
   ],
   "source": [
    "# 2.3: Kiểm tra dữ liệu trong cột \"Status\"\n",
    "print(df[\"Status\"].head())"
   ]
  },
  {
   "cell_type": "code",
   "execution_count": 5,
   "metadata": {},
   "outputs": [
    {
     "name": "stdout",
     "output_type": "stream",
     "text": [
      "Số lượng nước phát triển: 512\n",
      "Số lượng nước đang phát triển: 2426\n"
     ]
    }
   ],
   "source": [
    "# 2.4: Đếm số lượng nước đang phát triển và nước phát triển\n",
    "status_counts = df[\"Status\"].value_counts()\n",
    "print(\"Số lượng nước phát triển:\", status_counts.get(\"Developed\", 0))\n",
    "print(\"Số lượng nước đang phát triển:\", status_counts.get(\"Developing\", 0))"
   ]
  },
  {
   "cell_type": "code",
   "execution_count": 9,
   "metadata": {},
   "outputs": [
    {
     "name": "stdout",
     "output_type": "stream",
     "text": [
      "Min Alcohol: 0.01\n",
      "Max Alcohol: 17.87\n",
      "Mean Alcohol: 4.602860787172012\n",
      "Median Alcohol: 3.755\n"
     ]
    }
   ],
   "source": [
    "# 2.5: Tính min, max, mean, median của Alcohol\n",
    "min_alcohol = df[\"Alcohol\"].min()\n",
    "max_alcohol = df[\"Alcohol\"].max()\n",
    "mean_alcohol = df[\"Alcohol\"].mean()\n",
    "median_alcohol = df[\"Alcohol\"].median()\n",
    "print(f\"Min Alcohol: {min_alcohol}\")\n",
    "print(f\"Max Alcohol: {max_alcohol}\")\n",
    "print(f\"Mean Alcohol: {mean_alcohol}\")\n",
    "print(f\"Median Alcohol: {median_alcohol}\")\n"
   ]
  },
  {
   "cell_type": "code",
   "execution_count": 10,
   "metadata": {},
   "outputs": [
    {
     "name": "stdout",
     "output_type": "stream",
     "text": [
      "Số nước tiêu thụ rượu cao hơn mức trung bình: 92\n",
      "Danh sách các nước đó: ['Albania' 'Angola' 'Antigua and Barbuda' 'Argentina' 'Australia'\n",
      " 'Austria' 'Bahamas' 'Barbados' 'Belarus' 'Belgium' 'Belize'\n",
      " 'Bosnia and Herzegovina' 'Botswana' 'Brazil' 'Bulgaria' 'Burkina Faso'\n",
      " 'Burundi' 'Cabo Verde' 'Cameroon' 'Canada' 'Chile' 'China' 'Colombia'\n",
      " 'Croatia' 'Cyprus' 'Czechia' 'Denmark' 'Dominican Republic'\n",
      " 'Equatorial Guinea' 'Estonia' 'Finland' 'France' 'Gabon' 'Georgia'\n",
      " 'Germany' 'Greece' 'Grenada' 'Guyana' 'Haiti' 'Hungary' 'Iceland'\n",
      " 'Ireland' 'Italy' 'Japan' 'Kazakhstan' \"Lao People's Democratic Republic\"\n",
      " 'Latvia' 'Lithuania' 'Luxembourg' 'Malta' 'Mexico' 'Mongolia'\n",
      " 'Montenegro' 'Namibia' 'Netherlands' 'New Zealand' 'Nigeria' 'Norway'\n",
      " 'Panama' 'Paraguay' 'Peru' 'Philippines' 'Poland' 'Portugal'\n",
      " 'Republic of Korea' 'Republic of Moldova' 'Romania' 'Russian Federation'\n",
      " 'Rwanda' 'Saint Kitts and Nevis' 'Saint Lucia'\n",
      " 'Saint Vincent and the Grenadines' 'Sao Tome and Principe' 'Serbia'\n",
      " 'Seychelles' 'Slovakia' 'Slovenia' 'South Africa' 'Spain' 'Suriname'\n",
      " 'Swaziland' 'Sweden' 'Switzerland' 'Thailand' 'Trinidad and Tobago'\n",
      " 'Uganda' 'Ukraine' 'United Kingdom of Great Britain and Northern Ireland'\n",
      " 'United States of America' 'Uruguay' 'Venezuela (Bolivarian Republic of)'\n",
      " 'Zimbabwe']\n"
     ]
    }
   ],
   "source": [
    "# 2.6 - Bài 1: Đếm các nước có mức tiêu thụ rượu cao hơn trung bình\n",
    "high_alcohol_countries = df[df[\"Alcohol\"] > mean_alcohol][\"Country\"].unique()\n",
    "print(f\"Số nước tiêu thụ rượu cao hơn mức trung bình: {len(high_alcohol_countries)}\")\n",
    "print(\"Danh sách các nước đó:\", high_alcohol_countries)\n"
   ]
  },
  {
   "cell_type": "code",
   "execution_count": 11,
   "metadata": {},
   "outputs": [
    {
     "name": "stdout",
     "output_type": "stream",
     "text": [
      "Số nước có trình độ học vấn và GDP cao hơn trung bình: 69\n",
      "Danh sách các nước đó: ['Antigua and Barbuda' 'Argentina' 'Australia' 'Austria' 'Azerbaijan'\n",
      " 'Bahrain' 'Barbados' 'Belarus' 'Belgium' 'Botswana' 'Brazil'\n",
      " 'Brunei Darussalam' 'Bulgaria' 'Canada' 'Chile' 'China' 'Colombia'\n",
      " 'Costa Rica' 'Croatia' 'Cyprus' 'Denmark' 'Estonia' 'Finland' 'France'\n",
      " 'Gabon' 'Germany' 'Greece' 'Grenada' 'Hungary' 'Iceland' 'Ireland'\n",
      " 'Israel' 'Italy' 'Japan' 'Kazakhstan' 'Kuwait' 'Latvia' 'Lebanon' 'Libya'\n",
      " 'Lithuania' 'Luxembourg' 'Malaysia' 'Maldives' 'Malta' 'Mauritius'\n",
      " 'Mexico' 'Netherlands' 'New Zealand' 'Norway' 'Oman' 'Panama' 'Poland'\n",
      " 'Portugal' 'Qatar' 'Romania' 'Russian Federation' 'Saudi Arabia'\n",
      " 'Seychelles' 'Singapore' 'Slovenia' 'South Africa' 'Spain' 'Suriname'\n",
      " 'Sweden' 'Switzerland' 'Trinidad and Tobago' 'Turkey'\n",
      " 'United Arab Emirates' 'Uruguay']\n"
     ]
    }
   ],
   "source": [
    "# 2.6 - Bài 2: Quốc gia có trình độ học vấn và GDP cao hơn trung bình\n",
    "mean_schooling = df[\"Schooling\"].mean()\n",
    "mean_gdp = df[\"GDP\"].mean()\n",
    "\n",
    "high_edu_gdp_countries = df[(df[\"Schooling\"] > mean_schooling) & (df[\"GDP\"] > mean_gdp)][\"Country\"].unique()\n",
    "print(f\"Số nước có trình độ học vấn và GDP cao hơn trung bình: {len(high_edu_gdp_countries)}\")\n",
    "print(\"Danh sách các nước đó:\", high_edu_gdp_countries)"
   ]
  }
 ],
 "metadata": {
  "kernelspec": {
   "display_name": "Python 3",
   "language": "python",
   "name": "python3"
  },
  "language_info": {
   "codemirror_mode": {
    "name": "ipython",
    "version": 3
   },
   "file_extension": ".py",
   "mimetype": "text/x-python",
   "name": "python",
   "nbconvert_exporter": "python",
   "pygments_lexer": "ipython3",
   "version": "3.11.1"
  }
 },
 "nbformat": 4,
 "nbformat_minor": 2
}
