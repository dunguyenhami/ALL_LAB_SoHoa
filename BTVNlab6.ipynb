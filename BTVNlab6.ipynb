{
 "cells": [
  {
   "cell_type": "code",
   "execution_count": null,
   "metadata": {},
   "outputs": [],
   "source": [
    "# bài 1\n",
    "# Tạo một tensor có giá trị ban đầu là 2.0\n",
    "# định nghĩa hàm số và tính gradient\n",
    "# y = x^3 + 2x^2 +5x + 1\n",
    "# hãy tính dy/dx tại giá trị của x\n",
    "# dùng phương pháp gradient descent cới learning rate alpha = 0.1 để cập nhtaaj giá trị x trong 10 vòng lập\n",
    "\n",
    "# bài 2\n",
    "\n",
    "# Tạo một tập dữ liệu giả lập với x là số giờ học ( ngẫu nhiên từ 1-10) và y là dố điểm được tính theo công thức "
   ]
  },
  {
   "cell_type": "code",
   "execution_count": null,
   "metadata": {},
   "outputs": [
    {
     "name": "stdout",
     "output_type": "stream",
     "text": [
      "Epoch 1: x = -0.5\n",
      "Epoch 2: x = -0.875\n",
      "Epoch 3: x = -1.2546875476837158\n",
      "Epoch 4: x = -1.7250847816467285\n",
      "Epoch 5: x = -2.427826166152954\n",
      "Epoch 6: x = -3.7249975204467773\n",
      "Epoch 7: x = -6.897680282592773\n",
      "Epoch 8: x = -18.912006378173828\n",
      "Epoch 9: x = -119.14640808105469\n",
      "Epoch 10: x = -4330.74755859375\n"
     ]
    }
   ],
   "source": [
    "# Bài tập về nhà 1\n",
    "import torch  \n",
    "\n",
    "# Bước 1: Khởi tạo tensor x với giá trị ban đầu là 2.0 và yêu cầu tính gradient\n",
    "x = torch.tensor(2.0, requires_grad=True)\n",
    "\n",
    "# Bước 2: Định nghĩa hàm số y = x^3 + 2x^2 + 5x + 1\n",
    "def function(x):\n",
    "    return x**3 + 2*x**2 + 5*x + 1\n",
    "\n",
    "# Số vòng lặp Gradient Descent\n",
    "num_epochs = 10\n",
    "learning_rate = 0.1\n",
    "\n",
    "for epoch in range(num_epochs):\n",
    "    y = function(x)  # Tính giá trị của hàm số\n",
    "    y.backward()  # Tính đạo hàm dy/dx\n",
    "    with torch.no_grad():  # Tắt tính toán gradient để cập nhật giá trị\n",
    "        x -= learning_rate * x.grad  # Cập nhật x theo Gradient Descent\n",
    "        x.grad.zero_()  # Reset gradient về 0 để tránh cộng dồn\n",
    "\n",
    "    print(f\"Epoch {epoch+1}: x = {x.item()}\")"
   ]
  },
  {
   "cell_type": "code",
   "execution_count": 6,
   "metadata": {},
   "outputs": [
    {
     "name": "stdout",
     "output_type": "stream",
     "text": [
      "Epoch 10: Loss = 3.5481667518615723, w = 3.616509199142456, b = 1.2902840375900269\n",
      "Epoch 20: Loss = 3.3145415782928467, w = 3.591973066329956, b = 1.4407070875167847\n",
      "Epoch 30: Loss = 3.097622871398926, w = 3.5681142807006836, b = 1.585620403289795\n",
      "Epoch 40: Loss = 2.8962063789367676, w = 3.54512357711792, b = 1.725259780883789\n",
      "Epoch 50: Loss = 2.7091822624206543, w = 3.5229694843292236, b = 1.859817385673523\n",
      "Epoch 60: Loss = 2.5355238914489746, w = 3.501621723175049, b = 1.9894779920578003\n",
      "Epoch 70: Loss = 2.3742756843566895, w = 3.481050968170166, b = 2.114419937133789\n",
      "Epoch 80: Loss = 2.2245490550994873, w = 3.461228609085083, b = 2.2348148822784424\n",
      "Epoch 90: Loss = 2.085522413253784, w = 3.4421277046203613, b = 2.3508284091949463\n",
      "Epoch 100: Loss = 1.9564313888549805, w = 3.4237220287323, b = 2.4626195430755615\n",
      "\n",
      "Final parameters:\n",
      "w = 3.4237220287323, b = 2.4626195430755615\n"
     ]
    }
   ],
   "source": [
    "# Bài tập về nhà 2\n",
    "#BTVN 2 \n",
    "import torch\n",
    "\n",
    "# 1. Tạo tập dữ liệu giả lập\n",
    "torch.manual_seed(42)  # Đặt seed để tái tạo kết quả\n",
    "x = torch.randint(1, 11, (20,)).float()  # 20 giá trị ngẫu nhiên từ 1 đến 10\n",
    "noise = torch.randn(20) * 0.5  # Noise nhỏ\n",
    "y = 3 * x + 5 + noise  # Công thức y = 3x + 5 + noise\n",
    "\n",
    "# 2. Khởi tạo tham số w, b ngẫu nhiên\n",
    "w = torch.randn(1, requires_grad=True)\n",
    "b = torch.randn(1, requires_grad=True)\n",
    "\n",
    "# 3. Định nghĩa hàm tính MSE (Mean Squared Error)\n",
    "def compute_loss(y_pred, y_true):\n",
    "    return torch.mean((y_pred - y_true) ** 2)\n",
    "\n",
    "# 4. Gradient Descent với learning rate alpha = 0.01\n",
    "learning_rate = 0.01\n",
    "epochs = 100\n",
    "\n",
    "for epoch in range(epochs):\n",
    "    # Dự đoán giá trị y\n",
    "    y_pred = w * x + b  \n",
    "    loss = compute_loss(y_pred, y)  # Tính MSE\n",
    "    \n",
    "    # 5. Tính gradient\n",
    "    loss.backward()  \n",
    "    \n",
    "    # 6. Cập nhật tham số\n",
    "    with torch.no_grad():\n",
    "        w -= learning_rate * w.grad\n",
    "        b -= learning_rate * b.grad\n",
    "\n",
    "        # Đặt gradient về 0 để tránh cộng dồn\n",
    "        w.grad.zero_()\n",
    "        b.grad.zero_()\n",
    "    \n",
    "    # 7. In loss mỗi 10 vòng để quan sát sự hội tụ\n",
    "    if (epoch + 1) % 10 == 0:\n",
    "        print(f\"Epoch {epoch+1}: Loss = {loss.item()}, w = {w.item()}, b = {b.item()}\")\n",
    "\n",
    "# 8. Hiển thị kết quả cuối cùng\n",
    "print(\"\\nFinal parameters:\")\n",
    "print(f\"w = {w.item()}, b = {b.item()}\")\n"
   ]
  },
  {
   "cell_type": "code",
   "execution_count": 8,
   "metadata": {},
   "outputs": [
    {
     "data": {
      "text/plain": [
       "'2.6.0+cpu'"
      ]
     },
     "execution_count": 8,
     "metadata": {},
     "output_type": "execute_result"
    }
   ],
   "source": [
    "# pytorch with tensor\n",
    "import torch\n",
    "import numpy as np\n",
    "torch.__version__"
   ]
  },
  {
   "cell_type": "code",
   "execution_count": 9,
   "metadata": {},
   "outputs": [
    {
     "name": "stdout",
     "output_type": "stream",
     "text": [
      "[1 2 3 4 5]\n",
      "int32\n",
      "<class 'numpy.ndarray'>\n"
     ]
    }
   ],
   "source": [
    "# chuyển đổi mảng numpy sang tensor pytorch\n",
    "arr = np.array([1,2,3,4,5])\n",
    "print(arr)\n",
    "print(arr.dtype)\n",
    "print(type(arr))"
   ]
  },
  {
   "cell_type": "code",
   "execution_count": 10,
   "metadata": {},
   "outputs": [
    {
     "name": "stdout",
     "output_type": "stream",
     "text": [
      "tensor([1, 2, 3, 4, 5], dtype=torch.int32)\n",
      "torch.int32\n",
      "<class 'torch.Tensor'>\n"
     ]
    }
   ],
   "source": [
    "x = torch.from_numpy(arr)\n",
    "print(x)\n",
    "print(x.dtype)\n",
    "print(type(x))"
   ]
  },
  {
   "cell_type": "code",
   "execution_count": 11,
   "metadata": {},
   "outputs": [
    {
     "data": {
      "text/plain": [
       "array([[ 0.,  1.,  2.],\n",
       "       [ 3.,  4.,  5.],\n",
       "       [ 6.,  7.,  8.],\n",
       "       [ 9., 10., 11.]])"
      ]
     },
     "execution_count": 11,
     "metadata": {},
     "output_type": "execute_result"
    }
   ],
   "source": [
    "arr2 = np.arange(0.,12.).reshape(4,3)\n",
    "arr2"
   ]
  },
  {
   "cell_type": "code",
   "execution_count": 12,
   "metadata": {},
   "outputs": [
    {
     "name": "stdout",
     "output_type": "stream",
     "text": [
      "tensor([[ 0.,  1.,  2.],\n",
      "        [ 3.,  4.,  5.],\n",
      "        [ 6.,  7.,  8.],\n",
      "        [ 9., 10., 11.]], dtype=torch.float64)\n",
      "torch.DoubleTensor\n"
     ]
    }
   ],
   "source": [
    "x2 = torch.from_numpy(arr2)\n",
    "print(x2)\n",
    "print(x2.type())"
   ]
  },
  {
   "cell_type": "code",
   "execution_count": 13,
   "metadata": {},
   "outputs": [
    {
     "name": "stdout",
     "output_type": "stream",
     "text": [
      "tensor([0, 1, 2, 3, 4], dtype=torch.int32)\n"
     ]
    }
   ],
   "source": [
    "arr = np.arange(0,5)\n",
    "x = torch.from_numpy(arr)\n",
    "print(x)"
   ]
  },
  {
   "cell_type": "code",
   "execution_count": 14,
   "metadata": {},
   "outputs": [
    {
     "name": "stdout",
     "output_type": "stream",
     "text": [
      "tensor([99,  1,  2,  3,  4], dtype=torch.int32)\n"
     ]
    }
   ],
   "source": [
    "arr[0] = 99\n",
    "print(x)"
   ]
  },
  {
   "cell_type": "code",
   "execution_count": 15,
   "metadata": {},
   "outputs": [
    {
     "name": "stdout",
     "output_type": "stream",
     "text": [
      "tensor([0, 1, 2, 3, 4], dtype=torch.int32)\n"
     ]
    }
   ],
   "source": [
    "arr = np.arange(0,5)\n",
    "x = torch.from_numpy(arr)\n",
    "print(x)"
   ]
  },
  {
   "cell_type": "code",
   "execution_count": 16,
   "metadata": {},
   "outputs": [
    {
     "name": "stdout",
     "output_type": "stream",
     "text": [
      "tensor([99,  1,  2,  3,  4], dtype=torch.int32)\n"
     ]
    }
   ],
   "source": [
    "arr[0] = 99\n",
    "print(x)"
   ]
  },
  {
   "cell_type": "code",
   "execution_count": 17,
   "metadata": {},
   "outputs": [],
   "source": [
    "# BTVN 3: giải thích lý do tại sao cho 2 trường hợp trên"
   ]
  },
  {
   "cell_type": "markdown",
   "metadata": {},
   "source": [
    "Giải thích:\n",
    "\n",
    "Khi sử dụng torch.tensor(arr), PyTorch tạo một bản sao mới của dữ liệu từ NumPy array.\n",
    "Điều này có nghĩa là x và arr không còn liên kết với nhau.\n",
    "Khi thay đổi arr[0] = 99, tensor x vẫn giữ nguyên giá trị ban đầu"
   ]
  },
  {
   "cell_type": "code",
   "execution_count": 18,
   "metadata": {},
   "outputs": [],
   "source": [
    "# BTVN 4: bạn hãy giúp thầy về nhà tạo tensor với :\n",
    "# Empyty\n",
    "# Zeros \n",
    "# Ones \n",
    "# Random\n",
    "# Reshape với view với view as"
   ]
  },
  {
   "cell_type": "code",
   "execution_count": 19,
   "metadata": {},
   "outputs": [
    {
     "name": "stdout",
     "output_type": "stream",
     "text": [
      "Empty Tensor:\n",
      " tensor([[-1.5099e-31,  7.3568e-43,  0.0000e+00],\n",
      "        [ 0.0000e+00,  0.0000e+00,  0.0000e+00],\n",
      "        [ 0.0000e+00,  0.0000e+00,  0.0000e+00]])\n",
      "\n",
      "Zeros Tensor:\n",
      " tensor([[0., 0., 0.],\n",
      "        [0., 0., 0.],\n",
      "        [0., 0., 0.]])\n",
      "\n",
      "Ones Tensor:\n",
      " tensor([[1., 1., 1.],\n",
      "        [1., 1., 1.],\n",
      "        [1., 1., 1.]])\n",
      "\n",
      "Random Tensor:\n",
      " tensor([[0.5315, 0.1587, 0.6542],\n",
      "        [0.3278, 0.6532, 0.3958],\n",
      "        [0.9147, 0.2036, 0.2018]])\n",
      "\n",
      "Tensor sau view(3,3):\n",
      " tensor([[0, 1, 2],\n",
      "        [3, 4, 5],\n",
      "        [6, 7, 8]])\n",
      "\n",
      "Tensor sau view_as:\n",
      " tensor([[0, 1, 2],\n",
      "        [3, 4, 5],\n",
      "        [6, 7, 8]])\n"
     ]
    }
   ],
   "source": [
    "import torch  \n",
    "\n",
    "# Tạo tensor rỗng (không khởi tạo giá trị)\n",
    "empty_tensor = torch.empty(3, 3)\n",
    "print(\"Empty Tensor:\\n\", empty_tensor)\n",
    "\n",
    "# Tạo tensor với toàn số 0\n",
    "zeros_tensor = torch.zeros(3, 3)\n",
    "print(\"\\nZeros Tensor:\\n\", zeros_tensor)\n",
    "\n",
    "# Tạo tensor với toàn số 1\n",
    "ones_tensor = torch.ones(3, 3)\n",
    "print(\"\\nOnes Tensor:\\n\", ones_tensor)\n",
    "\n",
    "# Tạo tensor với giá trị ngẫu nhiên\n",
    "random_tensor = torch.rand(3, 3)\n",
    "print(\"\\nRandom Tensor:\\n\", random_tensor)\n",
    "\n",
    "# Thay đổi kích thước tensor bằng view()  \n",
    "tensor = torch.arange(9)  # Tạo tensor 1D từ 0-8\n",
    "reshaped_tensor = tensor.view(3, 3)  # Chuyển thành 3x3\n",
    "print(\"\\nTensor sau view(3,3):\\n\", reshaped_tensor)\n",
    "\n",
    "# Thay đổi kích thước tensor bằng view_as()  \n",
    "another_tensor = torch.zeros_like(reshaped_tensor)  # Tạo tensor có cùng kích thước\n",
    "view_as_tensor = tensor.view_as(another_tensor)  # Chuyển tensor về cùng shape\n",
    "print(\"\\nTensor sau view_as:\\n\", view_as_tensor)\n"
   ]
  }
 ],
 "metadata": {
  "kernelspec": {
   "display_name": "Python 3",
   "language": "python",
   "name": "python3"
  },
  "language_info": {
   "codemirror_mode": {
    "name": "ipython",
    "version": 3
   },
   "file_extension": ".py",
   "mimetype": "text/x-python",
   "name": "python",
   "nbconvert_exporter": "python",
   "pygments_lexer": "ipython3",
   "version": "3.11.1"
  }
 },
 "nbformat": 4,
 "nbformat_minor": 2
}
